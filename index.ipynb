{
 "cells": [
  {
   "cell_type": "markdown",
   "metadata": {},
   "source": [
    "## EECS 453/551\n",
    "# Image Processing with SVD\n",
    "What happens when we show only the first $k$ components of the SVD of an image?\n",
    "___"
   ]
  },
  {
   "cell_type": "markdown",
   "metadata": {},
   "source": [
    "## Before we begin\n",
    "\n",
    "You may wish to take a few minutes to familiarize yourself with the notebook interface. Choose Help -> User Interface Tour for a brief introduction.\n",
    "\n",
    "To run any cell in this notebook, click it and either\n",
    "\n",
    "* click Cell -> Run in the toolbar, or\n",
    "* press Ctrl+Enter\n",
    "\n",
    "Run the following cell to import Python packages and functions we will need in a moment."
   ]
  },
  {
   "cell_type": "code",
   "execution_count": null,
   "metadata": {
    "collapsed": false
   },
   "outputs": [],
   "source": [
    "# setup (run before continuing)\n",
    "%pylab inline\n",
    "import matplotlib.image as mpimg\n",
    "from ipywidgets import interact"
   ]
  },
  {
   "cell_type": "markdown",
   "metadata": {},
   "source": [
    "Now load and display a color image."
   ]
  },
  {
   "cell_type": "code",
   "execution_count": null,
   "metadata": {
    "collapsed": false,
    "scrolled": true
   },
   "outputs": [],
   "source": [
    "# load and display our test image\n",
    "img = mpimg.imread('harbaugh.png')\n",
    "imgplot = plt.imshow(img)"
   ]
  },
  {
   "cell_type": "markdown",
   "metadata": {},
   "source": [
    "The next cell is where the magic happens..."
   ]
  },
  {
   "cell_type": "code",
   "execution_count": null,
   "metadata": {
    "collapsed": false,
    "scrolled": true
   },
   "outputs": [],
   "source": [
    "# SVD of each image color component\n",
    "Ur,Sr,Vr = svd(img[:,:,0]) # red\n",
    "Ug,Sg,Vg = svd(img[:,:,1]) # blue\n",
    "Ub,Sb,Vb = svd(img[:,:,2]) # green\n",
    "kmax = Sr.size\n",
    "\n",
    "# precompute all possible numbers of components\n",
    "# (makes interactive display faster)\n",
    "Rimgs = empty((img.shape[0],img.shape[1],kmax+1))\n",
    "Gimgs = empty(Rimgs.shape)\n",
    "Bimgs = empty(Rimgs.shape)\n",
    "\n",
    "R = zeros(img.shape[0:2])\n",
    "G = copy(R)\n",
    "B = copy(R)\n",
    "\n",
    "# k = 0 case\n",
    "Rimgs[:,:,0] = R\n",
    "Gimgs[:,:,0] = G\n",
    "Bimgs[:,:,0] = B\n",
    "\n",
    "# remaining cases\n",
    "for k in range(0,kmax):\n",
    "    R = R + Sr[k]*outer(Ur[:,k],Vr[k,:])\n",
    "    G = G + Sg[k]*outer(Ug[:,k],Vg[k,:])\n",
    "    B = B + Sb[k]*outer(Ub[:,k],Vb[k,:])\n",
    "    \n",
    "    Rimgs[:,:,k+1] = R\n",
    "    Gimgs[:,:,k+1] = G\n",
    "    Bimgs[:,:,k+1] = B"
   ]
  },
  {
   "cell_type": "markdown",
   "metadata": {},
   "source": [
    "Now let's interact with the data. Run the last cell and use the sliders to vary the number of SVD components for each color. Interpret what you see. Is there any behavior that seems strange?\n",
    "\n",
    "*Note: you can click the number to the right of a slider to type a value.*"
   ]
  },
  {
   "cell_type": "code",
   "execution_count": null,
   "metadata": {
    "collapsed": false,
    "scrolled": true
   },
   "outputs": [],
   "source": [
    "fig = figure(figsize=[20,10])\n",
    "z = zeros(img.shape[0:2])\n",
    "def on_change(kr,kg,kb):   \n",
    "    Rimg = dstack((Rimgs[:,:,kr],z,z)) # red\n",
    "    Gimg = dstack((z,Gimgs[:,:,kg],z)) # green\n",
    "    Bimg = dstack((z,z,Bimgs[:,:,kb])) # blue\n",
    "    Cimg = Rimg + Gimg + Bimg # full color\n",
    "    \n",
    "    imshow(hstack((Rimg,Gimg,Bimg,Cimg)))\n",
    "    figsize(20,10)\n",
    "    show()\n",
    "    \n",
    "v = interact(on_change,kr=(0,kmax,5),kg=(0,kmax,5),kb=(0,kmax,5))"
   ]
  },
  {
   "cell_type": "markdown",
   "metadata": {},
   "source": [
    "You can edit any cell in this notebook and re-run it. You can also add your own cells by clicking the \"+\" button on the toolbar (or pressing `b` in command mode).\n",
    "\n",
    "Download this notebook by clicking File -> Download as -> IPython Notebook. Install [Jupyter](http://jupyter.readthedocs.org/en/latest/install.html) to run the notebook on your own computer."
   ]
  }
 ],
 "metadata": {
  "kernelspec": {
   "display_name": "Python 3",
   "language": "python",
   "name": "python3"
  },
  "language_info": {
   "codemirror_mode": {
    "name": "ipython",
    "version": 3
   },
   "file_extension": ".py",
   "mimetype": "text/x-python",
   "name": "python",
   "nbconvert_exporter": "python",
   "pygments_lexer": "ipython3",
   "version": "3.4.3"
  }
 },
 "nbformat": 4,
 "nbformat_minor": 0
}
