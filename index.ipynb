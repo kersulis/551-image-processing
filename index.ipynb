{
 "cells": [
  {
   "cell_type": "markdown",
   "metadata": {},
   "source": [
    "# SVD Image Processing\n",
    "\n",
    "What happens when we show only the first $k$ components of the SVD of an image?"
   ]
  },
  {
   "cell_type": "code",
   "execution_count": null,
   "metadata": {
    "collapsed": false
   },
   "outputs": [],
   "source": [
    "# setup (run before continuing)\n",
    "%pylab inline\n",
    "import matplotlib.image as mpimg\n",
    "from ipywidgets import interact"
   ]
  },
  {
   "cell_type": "markdown",
   "metadata": {},
   "source": [
    "## RGB Image"
   ]
  },
  {
   "cell_type": "code",
   "execution_count": null,
   "metadata": {
    "collapsed": false
   },
   "outputs": [],
   "source": [
    "img = mpimg.imread('harbaugh.png')\n",
    "imgplot = plt.imshow(img)"
   ]
  },
  {
   "cell_type": "code",
   "execution_count": null,
   "metadata": {
    "collapsed": false
   },
   "outputs": [],
   "source": [
    "Ur,Sr,Vr = svd(img[:,:,0])\n",
    "Ug,Sg,Vg = svd(img[:,:,1])\n",
    "Ub,Sb,Vb = svd(img[:,:,2])\n",
    "kmax = Sr.size\n",
    "\n",
    "fig = figure(figsize=[20,10])\n",
    "\n",
    "z = zeros(img.shape[0:2])\n",
    "\n",
    "def on_change(kr,kg,kb):\n",
    "\n",
    "    R = Ur[:,0:kr].dot(diag(Sr[0:kr])).dot(Vr[0:kr,:])\n",
    "    Rimg = dstack((R,z,z)) # reds\n",
    "    \n",
    "    G = Ug[:,0:kg].dot(diag(Sg[0:kg])).dot(Vg[0:kg,:])\n",
    "    Gimg = dstack((z,G,z)) # greens\n",
    "    \n",
    "    B = Ub[:,0:kb].dot(diag(Sb[0:kb])).dot(Vb[0:kb,:])\n",
    "    Bimg = dstack((z,z,B)) # blues\n",
    "    \n",
    "    Cimg = dstack((R,G,B)) # full color\n",
    "    imshow(hstack((Rimg,Gimg,Bimg,Cimg)))\n",
    "    figsize(20,10)\n",
    "    show()\n",
    "    \n",
    "v = interact(on_change,kr=(0,kmax,5),kg=(0,kmax,5),kb=(0,kmax,5))"
   ]
  },
  {
   "cell_type": "markdown",
   "metadata": {},
   "source": [
    "## Black & white image"
   ]
  },
  {
   "cell_type": "code",
   "execution_count": null,
   "metadata": {
    "collapsed": false
   },
   "outputs": [],
   "source": [
    "img = mpimg.imread('noisy.png')\n",
    "set_cmap('gray')\n",
    "imgplot = plt.imshow(img)"
   ]
  },
  {
   "cell_type": "code",
   "execution_count": null,
   "metadata": {
    "collapsed": false
   },
   "outputs": [],
   "source": [
    "U,S,V = svd(img)\n",
    "kmax = S.size\n",
    "\n",
    "fig = figure(figsize=[20,10])\n",
    "\n",
    "def on_change(k):\n",
    "    reduced = U[:,0:k].dot(diag(S[0:k])).dot(V[0:k,:])\n",
    "    imshow(reduced)\n",
    "    figsize(20,10)\n",
    "    show()\n",
    "    \n",
    "v = interact(on_change,k=(0,kmax,5))"
   ]
  }
 ],
 "metadata": {
  "kernelspec": {
   "display_name": "Python 3",
   "language": "python",
   "name": "python3"
  },
  "language_info": {
   "codemirror_mode": {
    "name": "ipython",
    "version": 3
   },
   "file_extension": ".py",
   "mimetype": "text/x-python",
   "name": "python",
   "nbconvert_exporter": "python",
   "pygments_lexer": "ipython3",
   "version": "3.4.3"
  }
 },
 "nbformat": 4,
 "nbformat_minor": 0
}
