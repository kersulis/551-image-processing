{
 "cells": [
  {
   "cell_type": "markdown",
   "metadata": {},
   "source": [
    "# SVD Image Processing\n",
    "\n",
    "What happens when we show only the first $k$ components of the SVD of an image?"
   ]
  },
  {
   "cell_type": "code",
   "execution_count": null,
   "metadata": {
    "collapsed": false
   },
   "outputs": [],
   "source": [
    "# setup (run before continuing)\n",
    "%pylab inline\n",
    "import matplotlib.image as mpimg\n",
    "from ipywidgets import interact"
   ]
  },
  {
   "cell_type": "markdown",
   "metadata": {},
   "source": [
    "## RGB Image"
   ]
  },
  {
   "cell_type": "code",
   "execution_count": null,
   "metadata": {
    "collapsed": false,
    "scrolled": true
   },
   "outputs": [],
   "source": [
    "img = mpimg.imread('harbaugh.png')\n",
    "imgplot = plt.imshow(img)"
   ]
  },
  {
   "cell_type": "code",
   "execution_count": null,
   "metadata": {
    "collapsed": false,
    "scrolled": true
   },
   "outputs": [],
   "source": [
    "Ur,Sr,Vr = svd(img[:,:,0])\n",
    "Ug,Sg,Vg = svd(img[:,:,1])\n",
    "Ub,Sb,Vb = svd(img[:,:,2])\n",
    "kmax = Sr.size\n",
    "\n",
    "# precompute all possible numbers of components\n",
    "Rimgs = empty((img.shape[0],img.shape[1],kmax+1))\n",
    "Gimgs = empty(Rimgs.shape)\n",
    "Bimgs = empty(Rimgs.shape)\n",
    "\n",
    "R = zeros(img.shape[0:2])\n",
    "G = copy(R)\n",
    "B = copy(R)\n",
    "\n",
    "# k = 0 case\n",
    "Rimgs[:,:,0] = R\n",
    "Gimgs[:,:,0] = G\n",
    "Bimgs[:,:,0] = B\n",
    "\n",
    "# remaining cases:\n",
    "for k in range(0,kmax):\n",
    "    R = R + Sr[k]*outer(Ur[:,k],Vr[k,:])\n",
    "    G = G + Sg[k]*outer(Ug[:,k],Vg[k,:])\n",
    "    B = B + Sb[k]*outer(Ub[:,k],Vb[k,:])\n",
    "    \n",
    "    Rimgs[:,:,k+1] = R\n",
    "    Gimgs[:,:,k+1] = G\n",
    "    Bimgs[:,:,k+1] = B"
   ]
  },
  {
   "cell_type": "code",
   "execution_count": null,
   "metadata": {
    "collapsed": false,
    "scrolled": true
   },
   "outputs": [],
   "source": [
    "fig = figure(figsize=[20,10])\n",
    "z = zeros(img.shape[0:2])\n",
    "def on_change(kr,kg,kb):   \n",
    "    Rimg = dstack((Rimgs[:,:,kr],z,z)) # reds\n",
    "    Gimg = dstack((z,Gimgs[:,:,kg],z)) # greens\n",
    "    Bimg = dstack((z,z,Bimgs[:,:,kb])) # blues\n",
    "    Cimg = Rimg + Gimg + Bimg # full color\n",
    "    \n",
    "    imshow(hstack((Rimg,Gimg,Bimg,Cimg)))\n",
    "    figsize(20,10)\n",
    "    show()\n",
    "    \n",
    "v = interact(on_change,kr=(0,kmax,5),kg=(0,kmax,5),kb=(0,kmax,5))"
   ]
  },
  {
   "cell_type": "markdown",
   "metadata": {},
   "source": [
    "## Black & white image"
   ]
  },
  {
   "cell_type": "code",
   "execution_count": null,
   "metadata": {
    "collapsed": false
   },
   "outputs": [],
   "source": [
    "img = mpimg.imread('noisy.png')\n",
    "set_cmap('gray')\n",
    "imgplot = plt.imshow(img)"
   ]
  },
  {
   "cell_type": "code",
   "execution_count": null,
   "metadata": {
    "collapsed": false
   },
   "outputs": [],
   "source": [
    "U,S,V = svd(img)\n",
    "kmax = S.size\n",
    "\n",
    "fig = figure(figsize=[20,10])\n",
    "\n",
    "def on_change(k):\n",
    "    reduced = U[:,0:k].dot(diag(S[0:k])).dot(V[0:k,:])\n",
    "    imshow(reduced)\n",
    "    figsize(20,10)\n",
    "    show()\n",
    "    \n",
    "v = interact(on_change,k=(0,kmax,5))"
   ]
  }
 ],
 "metadata": {
  "kernelspec": {
   "display_name": "Python 3",
   "language": "python",
   "name": "python3"
  },
  "language_info": {
   "codemirror_mode": {
    "name": "ipython",
    "version": 3
   },
   "file_extension": ".py",
   "mimetype": "text/x-python",
   "name": "python",
   "nbconvert_exporter": "python",
   "pygments_lexer": "ipython3",
   "version": "3.4.3"
  }
 },
 "nbformat": 4,
 "nbformat_minor": 0
}
